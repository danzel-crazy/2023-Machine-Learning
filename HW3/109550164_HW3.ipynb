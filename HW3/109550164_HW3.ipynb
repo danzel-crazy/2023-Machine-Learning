{
 "cells": [
  {
   "cell_type": "markdown",
   "metadata": {},
   "source": [
    "## HW3: Decision Tree, AdaBoost and Random Forest\n",
    "In hw3, you need to implement decision tree, adaboost and random forest by using only numpy, then train your implemented model by the provided dataset. TA will use the on-hold test label to evaluate your model performance.\n",
    "\n",
    "Please note that only **NUMPY** can be used to implement your model, you will get no points by simply calling `sklearn.tree.DecisionTreeClassifier`"
   ]
  },
  {
   "cell_type": "markdown",
   "metadata": {},
   "source": [
    "## Question 1\n",
    "Gini Index or Entropy is often used for measuring the “best” splitting of the data. Please compute the Entropy and Gini Index of provided data. Please use the formula from [page 5 of hw3 slides](https://docs.google.com/presentation/d/1kIe_-YZdemRMmr_3xDy-l0OS2EcLgDH7Uan14tlU5KE/edit#slide=id.gd542a5ff75_0_15)"
   ]
  },
  {
   "cell_type": "code",
   "execution_count": 4,
   "metadata": {},
   "outputs": [],
   "source": [
    "#compute gini \n",
    "def gini(sequence):\n",
    "    c1, c2 = 0, 0\n",
    "    for i in sequence:\n",
    "        if i == 1:\n",
    "            c1 += 1\n",
    "        else :\n",
    "            c2 += 1\n",
    "    \n",
    "    return 1 - pow((c1/len(sequence)), 2) - pow((c2/len(sequence)), 2)\n",
    "\n",
    "\n",
    "import math\n",
    "import numpy as np\n",
    "#compute entropy\n",
    "def entropy(sequence):\n",
    "    c1, c2 = 0, 0\n",
    "    for i in sequence:\n",
    "        if i == 1:\n",
    "            c1 += 1\n",
    "        else :\n",
    "            c2 += 1\n",
    "    \n",
    "    entro = - (((c1/len(sequence)) * math.log2(c1/len(sequence))) + ((c2/len(sequence)) * math.log2(c2/len(sequence))))\n",
    "    return entro"
   ]
  },
  {
   "cell_type": "code",
   "execution_count": 5,
   "metadata": {},
   "outputs": [],
   "source": [
    "# 1 = class 1,\n",
    "# 2 = class 2\n",
    "import pandas as pd\n",
    "import numpy as np\n",
    "import math\n",
    "from sklearn.metrics import accuracy_score\n",
    "import matplotlib.pyplot as plt\n",
    "from matplotlib import cm\n",
    "from tqdm import tqdm\n",
    "from collections import Counter\n",
    "data = np.array([1,2,1,1,1,1,2,2,1,1,2])"
   ]
  },
  {
   "cell_type": "code",
   "execution_count": 6,
   "metadata": {},
   "outputs": [
    {
     "name": "stdout",
     "output_type": "stream",
     "text": [
      "Gini of data is  0.4628099173553719\n"
     ]
    }
   ],
   "source": [
    "print(\"Gini of data is \", gini(data))"
   ]
  },
  {
   "cell_type": "code",
   "execution_count": 7,
   "metadata": {},
   "outputs": [
    {
     "name": "stdout",
     "output_type": "stream",
     "text": [
      "Entropy of data is  0.9456603046006402\n"
     ]
    }
   ],
   "source": [
    "print(\"Entropy of data is \", entropy(data))"
   ]
  },
  {
   "cell_type": "markdown",
   "metadata": {},
   "source": [
    "## Load data\n",
    "It is a binary classifiation dataset that classify if price is high or not for a cell phone, the label is stored in `price_range` column."
   ]
  },
  {
   "cell_type": "code",
   "execution_count": 6,
   "metadata": {},
   "outputs": [
    {
     "name": "stdout",
     "output_type": "stream",
     "text": [
      "(1200, 21)\n",
      "(300, 21)\n"
     ]
    },
    {
     "data": {
      "text/html": [
       "<div>\n",
       "<style scoped>\n",
       "    .dataframe tbody tr th:only-of-type {\n",
       "        vertical-align: middle;\n",
       "    }\n",
       "\n",
       "    .dataframe tbody tr th {\n",
       "        vertical-align: top;\n",
       "    }\n",
       "\n",
       "    .dataframe thead th {\n",
       "        text-align: right;\n",
       "    }\n",
       "</style>\n",
       "<table border=\"1\" class=\"dataframe\">\n",
       "  <thead>\n",
       "    <tr style=\"text-align: right;\">\n",
       "      <th></th>\n",
       "      <th>battery_power</th>\n",
       "      <th>blue</th>\n",
       "      <th>clock_speed</th>\n",
       "      <th>dual_sim</th>\n",
       "      <th>fc</th>\n",
       "      <th>four_g</th>\n",
       "      <th>int_memory</th>\n",
       "      <th>m_dep</th>\n",
       "      <th>mobile_wt</th>\n",
       "      <th>n_cores</th>\n",
       "      <th>...</th>\n",
       "      <th>px_height</th>\n",
       "      <th>px_width</th>\n",
       "      <th>ram</th>\n",
       "      <th>sc_h</th>\n",
       "      <th>sc_w</th>\n",
       "      <th>talk_time</th>\n",
       "      <th>three_g</th>\n",
       "      <th>touch_screen</th>\n",
       "      <th>wifi</th>\n",
       "      <th>price_range</th>\n",
       "    </tr>\n",
       "  </thead>\n",
       "  <tbody>\n",
       "    <tr>\n",
       "      <th>0</th>\n",
       "      <td>1583</td>\n",
       "      <td>1</td>\n",
       "      <td>2.1</td>\n",
       "      <td>1</td>\n",
       "      <td>11</td>\n",
       "      <td>0</td>\n",
       "      <td>14</td>\n",
       "      <td>0.7</td>\n",
       "      <td>148</td>\n",
       "      <td>7</td>\n",
       "      <td>...</td>\n",
       "      <td>942</td>\n",
       "      <td>1651</td>\n",
       "      <td>1704</td>\n",
       "      <td>17</td>\n",
       "      <td>13</td>\n",
       "      <td>2</td>\n",
       "      <td>1</td>\n",
       "      <td>0</td>\n",
       "      <td>1</td>\n",
       "      <td>1</td>\n",
       "    </tr>\n",
       "    <tr>\n",
       "      <th>1</th>\n",
       "      <td>745</td>\n",
       "      <td>1</td>\n",
       "      <td>0.6</td>\n",
       "      <td>1</td>\n",
       "      <td>5</td>\n",
       "      <td>0</td>\n",
       "      <td>35</td>\n",
       "      <td>0.8</td>\n",
       "      <td>102</td>\n",
       "      <td>8</td>\n",
       "      <td>...</td>\n",
       "      <td>89</td>\n",
       "      <td>1538</td>\n",
       "      <td>2459</td>\n",
       "      <td>14</td>\n",
       "      <td>1</td>\n",
       "      <td>16</td>\n",
       "      <td>1</td>\n",
       "      <td>1</td>\n",
       "      <td>0</td>\n",
       "      <td>0</td>\n",
       "    </tr>\n",
       "    <tr>\n",
       "      <th>2</th>\n",
       "      <td>832</td>\n",
       "      <td>0</td>\n",
       "      <td>0.7</td>\n",
       "      <td>1</td>\n",
       "      <td>2</td>\n",
       "      <td>1</td>\n",
       "      <td>39</td>\n",
       "      <td>0.7</td>\n",
       "      <td>103</td>\n",
       "      <td>4</td>\n",
       "      <td>...</td>\n",
       "      <td>125</td>\n",
       "      <td>1504</td>\n",
       "      <td>1799</td>\n",
       "      <td>5</td>\n",
       "      <td>2</td>\n",
       "      <td>11</td>\n",
       "      <td>1</td>\n",
       "      <td>0</td>\n",
       "      <td>1</td>\n",
       "      <td>0</td>\n",
       "    </tr>\n",
       "    <tr>\n",
       "      <th>3</th>\n",
       "      <td>1175</td>\n",
       "      <td>1</td>\n",
       "      <td>1.3</td>\n",
       "      <td>0</td>\n",
       "      <td>2</td>\n",
       "      <td>0</td>\n",
       "      <td>19</td>\n",
       "      <td>0.3</td>\n",
       "      <td>164</td>\n",
       "      <td>7</td>\n",
       "      <td>...</td>\n",
       "      <td>873</td>\n",
       "      <td>1394</td>\n",
       "      <td>1944</td>\n",
       "      <td>9</td>\n",
       "      <td>4</td>\n",
       "      <td>9</td>\n",
       "      <td>1</td>\n",
       "      <td>1</td>\n",
       "      <td>0</td>\n",
       "      <td>0</td>\n",
       "    </tr>\n",
       "    <tr>\n",
       "      <th>4</th>\n",
       "      <td>695</td>\n",
       "      <td>0</td>\n",
       "      <td>0.5</td>\n",
       "      <td>0</td>\n",
       "      <td>18</td>\n",
       "      <td>1</td>\n",
       "      <td>12</td>\n",
       "      <td>0.6</td>\n",
       "      <td>196</td>\n",
       "      <td>2</td>\n",
       "      <td>...</td>\n",
       "      <td>1649</td>\n",
       "      <td>1829</td>\n",
       "      <td>2855</td>\n",
       "      <td>16</td>\n",
       "      <td>13</td>\n",
       "      <td>7</td>\n",
       "      <td>1</td>\n",
       "      <td>1</td>\n",
       "      <td>1</td>\n",
       "      <td>1</td>\n",
       "    </tr>\n",
       "  </tbody>\n",
       "</table>\n",
       "<p>5 rows × 21 columns</p>\n",
       "</div>"
      ],
      "text/plain": [
       "   battery_power  blue  clock_speed  dual_sim  fc  four_g  int_memory  m_dep  \\\n",
       "0           1583     1          2.1         1  11       0          14    0.7   \n",
       "1            745     1          0.6         1   5       0          35    0.8   \n",
       "2            832     0          0.7         1   2       1          39    0.7   \n",
       "3           1175     1          1.3         0   2       0          19    0.3   \n",
       "4            695     0          0.5         0  18       1          12    0.6   \n",
       "\n",
       "   mobile_wt  n_cores  ...  px_height  px_width   ram  sc_h  sc_w  talk_time  \\\n",
       "0        148        7  ...        942      1651  1704    17    13          2   \n",
       "1        102        8  ...         89      1538  2459    14     1         16   \n",
       "2        103        4  ...        125      1504  1799     5     2         11   \n",
       "3        164        7  ...        873      1394  1944     9     4          9   \n",
       "4        196        2  ...       1649      1829  2855    16    13          7   \n",
       "\n",
       "   three_g  touch_screen  wifi  price_range  \n",
       "0        1             0     1            1  \n",
       "1        1             1     0            0  \n",
       "2        1             0     1            0  \n",
       "3        1             1     0            0  \n",
       "4        1             1     1            1  \n",
       "\n",
       "[5 rows x 21 columns]"
      ]
     },
     "execution_count": 6,
     "metadata": {},
     "output_type": "execute_result"
    }
   ],
   "source": [
    "import pandas as pd\n",
    "\n",
    "train_df = pd.read_csv('train.csv')\n",
    "val_df = pd.read_csv('val.csv')\n",
    "print(train_df.shape)\n",
    "print(val_df.shape)\n",
    "\n",
    "\n",
    "train_df = pd.read_csv('train.csv')\n",
    "val_df = pd.read_csv('val.csv')\n",
    "\n",
    "x_train = train_df.drop(labels=[\"price_range\"], axis=\"columns\")\n",
    "feature_names = x_train.columns.values\n",
    "x_train = x_train.values\n",
    "y_train = train_df['price_range'].values\n",
    "\n",
    "x_test = val_df.drop(labels=[\"price_range\"], axis=\"columns\")\n",
    "x_test = x_test.values\n",
    "y_test = val_df['price_range'].values\n",
    "\n",
    "train_df.head()"
   ]
  },
  {
   "cell_type": "markdown",
   "metadata": {},
   "source": [
    "## Question 2\n",
    "Implement the Decision Tree algorithm (CART, Classification and Regression Trees) and trained the model by the given arguments, and print the accuracy score on the validation data. You should implement two arguments for the Decision Tree algorithm\n",
    "1. **criterion**: The function to measure the quality of a split. Your model should support `gini` for the Gini impurity and `entropy` for the information gain. \n",
    "2. **max_depth**: The maximum depth of the tree. If `max_depth=None`, then nodes are expanded until all leaves are pure. `max_depth=1` equals to split data once\n"
   ]
  },
  {
   "cell_type": "code",
   "execution_count": 8,
   "metadata": {},
   "outputs": [],
   "source": [
    "#calculate the class in the leaf\n",
    "def class_counts(y_train) :\n",
    "    cl = 0\n",
    "    c1, c2 = 0, 0\n",
    "    for i in y_train:\n",
    "        if i == 1:\n",
    "            c1 += 1\n",
    "        else :\n",
    "            c2 += 1\n",
    "    if c1 == len(y_train) or c2 == len(y_train) :\n",
    "        return 3\n",
    "    if c1 >= c2 : \n",
    "        cl = 1\n",
    "    else : \n",
    "        cl = 0\n",
    "\n",
    "    return cl\n",
    "\n",
    "class Node:\n",
    "\n",
    "    def __init__(self):\n",
    "        self.col = None\n",
    "        self.question = None\n",
    "        self.cl = None\n",
    "        self.depth = 0\n",
    "        self.true_branch = None\n",
    "        self.false_branch = None\n",
    "        self.leaf = False\n",
    "\n",
    "class DecisionTree():\n",
    "    def __init__(self, criterion='gini', max_depth=None):\n",
    "        self.max_depth = max_depth\n",
    "        self.criterion = criterion\n",
    "        self.x_data = None\n",
    "        self.y_data = None\n",
    "        self.tree = None\n",
    "        self.features = []\n",
    "        self.sample_weight = 1\n",
    "        self.ada = False    \n",
    "        self.max_features = 1\n",
    "        self.boostrap = False\n",
    "\n",
    "    #compute best decision for RandomForest\n",
    "    def find_low_error(self, lists, x_data, y_data) :\n",
    "        best_gain = None  \n",
    "        best_question = None\n",
    "        bestCol = None\n",
    "        #iterate through features\n",
    "        for col in lists: \n",
    "            val = []\n",
    "            for i in x_data : \n",
    "                val.append(i[col])\n",
    "            #iterate through every val in features\n",
    "            for i in val : \n",
    "                \n",
    "                true_col, false_col = [], []\n",
    "                true_branch, false_branch = [], []\n",
    "                true_w, false_w = [], []\n",
    "                question = i\n",
    "                if self.ada == True :\n",
    "                    true_branch = y_data[val >= question]\n",
    "                    true_col = [ index for index, i in enumerate(y_data[val >= question])]\n",
    "                    true_w = [self.sample_weight[index] for index, i in enumerate(y_data[val >= question])]\n",
    "\n",
    "                    false_branch = y_data[val < question]\n",
    "                    false_col = [ index for index, i in enumerate(y_data[val < question])]\n",
    "                    false_w = [self.sample_weight[index] for index, i in enumerate(y_data[val < question])]\n",
    "                else :\n",
    "                    true_branch = y_data[val >= question]\n",
    "                    false_branch = y_data[val < question]\n",
    "\n",
    "                if len(true_branch) == 0 or len(false_branch) == 0:\n",
    "                    continue\n",
    "                \n",
    "                #use gini\n",
    "                if self.criterion == 'gini' : \n",
    "                    if self.ada == False :\n",
    "                        gain = ((len(true_branch)/len(y_data)) * gini(true_branch) + (len(false_branch)/len(y_data)) *gini(false_branch))\n",
    "                    else :\n",
    "                        gain = ((len(true_branch)/len(y_data)) * gini(true_branch) + (len(false_branch)/len(y_data)) *gini(false_branch))\n",
    "                #use entropy\n",
    "                elif self.criterion == 'entropy' :\n",
    "                    \n",
    "                    gain = ((len(true_branch)/len(y_data)) * entropy(true_branch) + (len(false_branch)/len(y_data)) * entropy(false_branch))\n",
    "            \n",
    "                if best_gain == None or gain <= best_gain:\n",
    "                    bestCol = col\n",
    "                    best_gain, best_question = gain, question\n",
    "        \n",
    "        return bestCol, best_gain, best_question\n",
    "    #compute best decision\n",
    "    def find_best_decision(self, x_data, y_data):\n",
    "        best_gain = None  \n",
    "        best_question = None\n",
    "        bestCol = None  \n",
    "        current_gini = gini(y_data)\n",
    "        current_entropy = entropy(y_data)\n",
    "        # print(self.criterion)\n",
    "        if self.boostrap == True :\n",
    "            #randomly selecr features\n",
    "            lists =  np.random.choice(x_data.shape[1], self.max_features, replace = True)\n",
    "            bestCol, best_gain, best_question = self.find_low_error(lists, x_data, y_data)\n",
    "        else :\n",
    "            #iterate through features\n",
    "            for col in range(len(x_data[0])):\n",
    "                val = []\n",
    "                for i in x_data : \n",
    "                    val.append(i[col])\n",
    "                \n",
    "                #iterate through every val in features\n",
    "                for i in val : \n",
    "                    \n",
    "                    true_col, false_col = [], []\n",
    "                    true_branch, false_branch = [], []\n",
    "                    true_w, false_w = [], []\n",
    "                    question = i\n",
    "                    if self.ada == True :\n",
    "                        true_branch = y_data[val >= question]\n",
    "                        true_col = [ index for index, i in enumerate(y_data[val >= question])]\n",
    "                        true_w = [self.sample_weight[index] for index, i in enumerate(y_data[val >= question])]\n",
    "\n",
    "                        false_branch = y_data[val < question]\n",
    "                        false_col = [ index for index, i in enumerate(y_data[val < question])]\n",
    "                        false_w = [self.sample_weight[index] for index, i in enumerate(y_data[val < question])]\n",
    "                    else :\n",
    "                        true_branch = y_data[val >= question]\n",
    "                        false_branch = y_data[val < question]\n",
    "\n",
    "                    if len(true_branch) == 0 or len(false_branch) == 0:\n",
    "                        continue\n",
    "                    #use gini\n",
    "                    if self.criterion == 'gini' : \n",
    "                        if self.ada == False :\n",
    "                            gain = ((len(true_branch)/len(y_data)) * gini(true_branch) + (len(false_branch)/len(y_data)) *gini(false_branch))\n",
    "                        else :\n",
    "                            gain = ((len(true_branch)/len(y_data)) * gini(true_branch) + (len(false_branch)/len(y_data)) * gini(false_branch))\n",
    "                    #use entropy\n",
    "                    elif self.criterion == 'entropy' :\n",
    "                        gain = ((len(true_branch)/len(y_data)) * entropy(true_branch) + (len(false_branch)/len(y_data)) * entropy(false_branch))\n",
    "                        # print((len(true_branch)/len(y_data)))\n",
    "                \n",
    "                    if best_gain == None or gain <= best_gain:\n",
    "                        bestCol = col\n",
    "                        best_gain, best_question = gain, question\n",
    "        # if best_gain == None :\n",
    "        #     return None, None, None, None, None, None\n",
    "\n",
    "        #store chosen features, decison, col, val\n",
    "        self.features.append(bestCol)\n",
    "        best_val = [i[bestCol] for i in x_data]\n",
    "\n",
    "        x_true, x_false = x_data[best_val >= best_question, :], x_data[best_val < best_question, :]\n",
    "        y_true, y_false = y_data[best_val >= best_question], y_data[best_val < best_question]\n",
    "        \n",
    "        return bestCol, best_question, x_true, x_false, y_true, y_false\n",
    "\n",
    "    def build_tree(self, x_data, y_data, node):\n",
    "        #set limit depth\n",
    "        if node.depth == self.max_depth : \n",
    "            node.cl = class_counts(y_data)\n",
    "            return\n",
    "        #check wether the data in leaf is in same class\n",
    "        if class_counts(y_data) == 3 :\n",
    "            node.leaf = True\n",
    "            node.cl = y_data[0]\n",
    "            return\n",
    "\n",
    "        #find best decision\n",
    "        bestCol, best_question, x_true, x_false, y_true, y_false = self.find_best_decision(x_data, y_data)\n",
    "\n",
    "        #construct left and right node\n",
    "        node.col = bestCol\n",
    "        node.question = best_question\n",
    "        node.true_brach = Node()\n",
    "        node.false_brach = Node()\n",
    "\n",
    "        node.true_brach.depth = node.depth + 1\n",
    "        node.false_brach.depth = node.depth + 1\n",
    "\n",
    "        self.build_tree(x_true, y_true, node.true_brach)\n",
    "        self.build_tree(x_false, y_false, node.false_brach)\n",
    "    \n",
    "    #predict the y value\n",
    "    def prediction(self, x_data, node):\n",
    "        #reach max_depth then predict class \n",
    "        if node.depth == self.max_depth:\n",
    "            # print(node.cl)\n",
    "            return node.cl\n",
    "        #reach leaf then predict class \n",
    "        if node.leaf == True :\n",
    "            return node.cl\n",
    "\n",
    "        #decide which node to go \n",
    "        if x_data[node.col] >= node.question :\n",
    "            return self.prediction(x_data, node.true_brach)\n",
    "        else:\n",
    "            return self.prediction(x_data, node.false_brach)\n",
    "\n",
    "    #train the decision tree with data\n",
    "    def fit(self, x_data, y_data, ada=False, boostrap=False, max_features=1, sample_weight=1):\n",
    "        self.ada = ada\n",
    "        self.boostrap = boostrap\n",
    "        self.sample_weight = sample_weight\n",
    "        self.max_features = max_features\n",
    "        self.tree = Node()\n",
    "        self.tree.depth = 0\n",
    "        self.build_tree(x_data, y_data, self.tree)\n",
    "\n",
    "    #predict y data with builded decision tree\n",
    "    def predict(self,x_data):\n",
    "        pred = []\n",
    "        for x in x_data:\n",
    "            y = self.prediction(x, self.tree)\n",
    "            pred.append(y) \n",
    "        pred = np.asarray(pred)\n",
    "\n",
    "        return pred\n"
   ]
  },
  {
   "cell_type": "markdown",
   "metadata": {},
   "source": [
    "### Question 2.1\n",
    "Using `criterion=gini`, showing the accuracy score of validation data by `max_depth=3` and `max_depth=10`, respectively.\n"
   ]
  },
  {
   "cell_type": "code",
   "execution_count": 233,
   "metadata": {},
   "outputs": [
    {
     "name": "stdout",
     "output_type": "stream",
     "text": [
      "Test-set accuarcy score:  0.92\n",
      "Test-set accuarcy score:  0.94\n"
     ]
    }
   ],
   "source": [
    "clf_depth3 = DecisionTree(criterion='gini', max_depth=3)\n",
    "clf_depth10 = DecisionTree(criterion='gini', max_depth=10)\n",
    "\n",
    "clf_depth3.fit(x_train, y_train)\n",
    "y_pred = clf_depth3.predict(x_test)\n",
    "print('Test-set accuarcy score: ', accuracy_score(y_test, y_pred))\n",
    "\n",
    "clf_depth10.fit(x_train, y_train)\n",
    "y_pred = clf_depth10.predict(x_test)\n",
    "print('Test-set accuarcy score: ', accuracy_score(y_test, y_pred))\n"
   ]
  },
  {
   "cell_type": "markdown",
   "metadata": {},
   "source": [
    "### Question 2.2\n",
    "Using `max_depth=3`, showing the accuracy score of validation data by `criterion=gini` and `criterion=entropy`, respectively.\n"
   ]
  },
  {
   "cell_type": "code",
   "execution_count": 236,
   "metadata": {},
   "outputs": [
    {
     "name": "stdout",
     "output_type": "stream",
     "text": [
      "Test-set accuarcy score:  0.92\n",
      "Test-set accuarcy score:  0.8933333333333333\n"
     ]
    }
   ],
   "source": [
    "clf_gini = DecisionTree(criterion='gini', max_depth=3)\n",
    "clf_entropy = DecisionTree(criterion='entropy', max_depth=2)\n",
    "\n",
    "clf_gini.fit(x_train, y_train)\n",
    "y_pred = clf_gini.predict(x_test)\n",
    "print('Test-set accuarcy score: ', accuracy_score(y_test, y_pred))\n",
    "\n",
    "clf_entropy.fit(x_train, y_train)\n",
    "y_pred = clf_entropy.predict(x_test)\n",
    "print('Test-set accuarcy score: ', accuracy_score(y_test, y_pred))"
   ]
  },
  {
   "cell_type": "markdown",
   "metadata": {},
   "source": [
    "- Note: Your decisition tree scores should over **0.9**. It may suffer from overfitting, if so, you can tune the hyperparameter such as `max_depth`\n",
    "- Note: You should get the same results when re-building the model with the same arguments,  no need to prune the trees\n",
    "- Hint: You can use the recursive method to build the nodes\n"
   ]
  },
  {
   "cell_type": "markdown",
   "metadata": {},
   "source": [
    "## Question 3\n",
    "Plot the [feature importance](https://sefiks.com/2020/04/06/feature-importance-in-decision-trees/) of your Decision Tree model. You can get the feature importance by counting the feature used for splitting data.\n",
    "\n",
    "- You can simply plot the **counts of feature used** for building tree without normalize the importance. Take the figure below as example, outlook feature has been used for splitting for almost 50 times. Therefore, it has the largest importance\n",
    "\n",
    "![image](https://i2.wp.com/sefiks.com/wp-content/uploads/2020/04/c45-fi-results.jpg?w=481&ssl=1)"
   ]
  },
  {
   "cell_type": "code",
   "execution_count": 202,
   "metadata": {},
   "outputs": [
    {
     "data": {
      "image/png": "[encoded data removed]",
      "text/plain": [
       "<Figure size 640x480 with 1 Axes>"
      ]
     },
     "metadata": {},
     "output_type": "display_data"
    }
   ],
   "source": [
    "features = {}\n",
    "\n",
    "#calculate features times\n",
    "for i in clf_depth10.features :\n",
    "    if features.get(feature_names[i]) == None :\n",
    "        features[feature_names[i]] = 1\n",
    "    else :\n",
    "        features[feature_names[i]] += 1\n",
    "        \n",
    "#use barh to produce chart\n",
    "cmap = cm.jet(np.linspace(0, 1, len(features)))\n",
    "plt.barh(*zip(*features.items()), color=cmap)\n",
    "plt.ylabel('Features')\n",
    "plt.xlabel('Times')\n",
    "plt.title('Feature Importance')\n",
    "plt.show()"
   ]
  },
  {
   "cell_type": "markdown",
   "metadata": {},
   "source": [
    "## Question 4\n",
    "implement the AdaBooest algorithm by using the CART you just implemented from question 2 as base learner. You should implement one arguments for the AdaBooest.\n",
    "1. **n_estimators**: The maximum number of estimators at which boosting is terminated"
   ]
  },
  {
   "cell_type": "code",
   "execution_count": 9,
   "metadata": {},
   "outputs": [],
   "source": [
    "#relabel the y val\n",
    "def relabel(y_data) :\n",
    "    for  i in range(len(y_data)) :\n",
    "        if y_data[i] == 0 :\n",
    "            y_data[i] = -1\n",
    "\n",
    "    return y_data \n",
    "\n",
    "#compute error\n",
    "def compute_error(y, y_pred, w_i):\n",
    "    \n",
    "    return (sum(w_i * (np.not_equal(y, y_pred)).astype(int)))\n",
    "\n",
    "#compute alpha\n",
    "def compute_alpha(error):\n",
    "    \n",
    "    return np.log((1 - error) / error) / 2\n",
    "\n",
    "#refresh weights\n",
    "def update_weights(w_i, alpha, y, y_pred):\n",
    "    # print(np.not_equal(y, y_pred))\n",
    "    return w_i * np.exp(alpha * (np.not_equal(y, y_pred)).astype(int))\n",
    "\n",
    "class AdaBoost():\n",
    "    def __init__(self, n_estimators):\n",
    "        self.n_estimators = n_estimators\n",
    "        self.acc = 0\n",
    "        self.tree = None\n",
    "        self.alphas = []\n",
    "        self.clf = []   \n",
    "    \n",
    "    #fit decison tree with adaboost approach\n",
    "    def fit(self, x_data, y_data):  \n",
    "        y_data = y_data * 2 - 1\n",
    "        #iterate through n_estimaters\n",
    "        for m in tqdm(range(0, self.n_estimators)):\n",
    "            \n",
    "            if m == 0:\n",
    "                #initiate weight\n",
    "                w_i = np.ones(len(y_data)) * 1 / len(y_data)\n",
    "                \n",
    "                new_x = x_data\n",
    "            else:\n",
    "                #refresh weight and normalize\n",
    "                w_i = update_weights(w_i, alpha, y_data, y_pred)\n",
    "                w_i = w_i/sum(w_i)\n",
    "                #sample data with weight\n",
    "                idx = np.random.choice(len(x_data), len(x_data), replace = True, p = w_i)\n",
    "                new_x = x_data[idx]\n",
    "\n",
    "            #run decision tree\n",
    "            clf_depth3 = DecisionTree(criterion='gini', max_depth=1)\n",
    "            clf_depth3.fit(new_x, y_data, ada = True , sample_weight = w_i)\n",
    "            y_pred = clf_depth3.predict(x_data)\n",
    "            #relabel y_pred\n",
    "            y_pred = y_pred * 2 -1\n",
    "            #strore ecison tree\n",
    "            self.clf.append(clf_depth3)\n",
    "\n",
    "            error = compute_error(y_data, y_pred, w_i)\n",
    "\n",
    "            alpha = compute_alpha(error)\n",
    "            #store alpha\n",
    "            self.alphas.append(alpha)\n",
    "    #decide which class it is    \n",
    "    def result(self, pred) :\n",
    "        y_pred = []\n",
    "        for i in pred : \n",
    "            if i >= 0 :\n",
    "                y_pred.append(1)\n",
    "            else :\n",
    "                y_pred.append(0)\n",
    "\n",
    "        return np.asarray(y_pred)\n",
    "\n",
    "    #predict y val with sum result\n",
    "    def predict(self, x_data):\n",
    "        preds = np.zeros(len(x_data))\n",
    "\n",
    "        for m in range(self.n_estimators):\n",
    "            y_pred_m = self.clf[m].predict(x_data) * 2 - 1\n",
    "            y_pred_m = y_pred_m * self.alphas[m]\n",
    "            preds += y_pred_m\n",
    "            \n",
    "        #find predict class\n",
    "        y_pred = self.result(preds)\n",
    "        return y_pred"
   ]
  },
  {
   "cell_type": "code",
   "execution_count": null,
   "metadata": {},
   "outputs": [],
   "source": []
  },
  {
   "cell_type": "markdown",
   "metadata": {},
   "source": [
    "### Question 4.1\n",
    "Show the accuracy score of validation data by `n_estimators=10` and `n_estimators=100`, respectively.\n"
   ]
  },
  {
   "cell_type": "code",
   "execution_count": 209,
   "metadata": {},
   "outputs": [
    {
     "name": "stderr",
     "output_type": "stream",
     "text": [
      "100%|██████████| 10/10 [05:50<00:00, 35.06s/it]\n"
     ]
    },
    {
     "name": "stdout",
     "output_type": "stream",
     "text": [
      "Test-set accuarcy score:  0.8933333333333333\n"
     ]
    },
    {
     "name": "stderr",
     "output_type": "stream",
     "text": [
      "100%|██████████| 100/100 [57:40<00:00, 34.60s/it]"
     ]
    },
    {
     "name": "stdout",
     "output_type": "stream",
     "text": [
      "Test-set accuarcy score:  0.9233333333333333\n"
     ]
    },
    {
     "name": "stderr",
     "output_type": "stream",
     "text": [
      "\n"
     ]
    }
   ],
   "source": [
    "ada10 = AdaBoost(n_estimators=10)\n",
    "ada100 = AdaBoost(n_estimators=100)\n",
    "\n",
    "ada10.fit(x_train, y_train)\n",
    "y_pred = ada10.predict(x_test)\n",
    "print('Test-set accuarcy score: ', accuracy_score(y_test, y_pred))\n",
    "\n",
    "ada100.fit(x_train, y_train)\n",
    "y_pred = ada100.predict(x_test)\n",
    "print('Test-set accuarcy score: ', accuracy_score(y_test, y_pred))"
   ]
  },
  {
   "cell_type": "markdown",
   "metadata": {},
   "source": [
    "## Question 5\n",
    "implement the Random Forest algorithm by using the CART you just implemented from question 2. You should implement three arguments for the Random Forest.\n",
    "\n",
    "1. **n_estimators**: The number of trees in the forest. \n",
    "2. **max_features**: The number of random select features to consider when looking for the best split\n",
    "3. **bootstrap**: Whether bootstrap samples are used when building tree\n"
   ]
  },
  {
   "cell_type": "code",
   "execution_count": 10,
   "metadata": {},
   "outputs": [],
   "source": [
    "#coutnt label for class find the most class\n",
    "def common_label(y_data) :\n",
    "    counter = Counter(y_data)\n",
    "    label = counter.most_common(1)[0][0]\n",
    "    return label\n",
    "\n",
    "class RandomForest():\n",
    "    def __init__(self, n_estimators, max_features, boostrap=True, criterion='gini', max_depth=None):\n",
    "        self.n_estimators = n_estimators\n",
    "        self.max_features = math.ceil(max_features)\n",
    "        self.boostrap = boostrap\n",
    "        self.criterion = criterion\n",
    "        self.max_depth = max_depth\n",
    "        self.tree = []\n",
    "\n",
    "    def fit(self, x_data, y_data):\n",
    "        #iterate through the n_estimater\n",
    "        for i in tqdm(range(self.n_estimators)) :\n",
    "            clf_depth3 = DecisionTree(criterion='gini', max_depth=3)\n",
    "            #randomly choose data \n",
    "            idx = np.random.choice(len(x_data), len(x_data), replace = True)\n",
    "            new_x, new_y = x_data[idx], y_data[idx]\n",
    "            clf_depth3.fit(new_x, new_y, boostrap=self.boostrap, max_features=self.max_features)\n",
    "            self.tree.append(clf_depth3)\n",
    "\n",
    "    #predict label with randomforest\n",
    "    def predict(self, x_data):\n",
    "        tree_predicts = np.array([tree.predict(x_data) for tree in self.tree])\n",
    "        tree_predicts = np.swapaxes(tree_predicts, 0, 1)\n",
    "        y_pred = [common_label(tree_pred) for tree_pred in tree_predicts]\n",
    "        return np.array(y_pred)"
   ]
  },
  {
   "cell_type": "markdown",
   "metadata": {},
   "source": [
    "### Question 5.1\n",
    "Using `criterion=gini`, `max_depth=None`, `max_features=sqrt(n_features)`, showing the accuracy score of validation data by `n_estimators=10` and `n_estimators=100`, respectively.\n"
   ]
  },
  {
   "cell_type": "code",
   "execution_count": 170,
   "metadata": {},
   "outputs": [],
   "source": [
    "clf_10tree = RandomForest(n_estimators=10, max_features=np.sqrt(x_train.shape[1]))\n",
    "clf_100tree = RandomForest(n_estimators=100, max_features=np.sqrt(x_train.shape[1]))"
   ]
  },
  {
   "cell_type": "code",
   "execution_count": 172,
   "metadata": {},
   "outputs": [
    {
     "name": "stderr",
     "output_type": "stream",
     "text": [
      "100%|██████████| 10/10 [00:46<00:00,  4.68s/it]\n"
     ]
    },
    {
     "name": "stdout",
     "output_type": "stream",
     "text": [
      "Test-set accuarcy score:  0.87\n"
     ]
    },
    {
     "name": "stderr",
     "output_type": "stream",
     "text": [
      "100%|██████████| 100/100 [06:48<00:00,  4.08s/it]"
     ]
    },
    {
     "name": "stdout",
     "output_type": "stream",
     "text": [
      "Test-set accuarcy score:  0.9133333333333333\n"
     ]
    },
    {
     "name": "stderr",
     "output_type": "stream",
     "text": [
      "\n"
     ]
    }
   ],
   "source": [
    "clf_10tree.fit(x_train, y_train)\n",
    "y_pred = clf_10tree.predict(x_test)\n",
    "print('Test-set accuarcy score: ', accuracy_score(y_test, y_pred))\n",
    "\n",
    "clf_100tree.fit(x_train, y_train)\n",
    "y_pred = clf_100tree.predict(x_test)\n",
    "print('Test-set accuarcy score: ', accuracy_score(y_test, y_pred))"
   ]
  },
  {
   "cell_type": "markdown",
   "metadata": {},
   "source": [
    "### Question 5.2\n",
    "Using `criterion=gini`, `max_depth=None`, `n_estimators=10`, showing the accuracy score of validation data by `max_features=sqrt(n_features)` and `max_features=n_features`, respectively.\n"
   ]
  },
  {
   "cell_type": "code",
   "execution_count": 164,
   "metadata": {},
   "outputs": [],
   "source": [
    "clf_random_features = RandomForest(n_estimators=10, max_features=np.sqrt(x_train.shape[1]))\n",
    "clf_all_features = RandomForest(n_estimators=10, max_features=x_train.shape[1])"
   ]
  },
  {
   "cell_type": "markdown",
   "metadata": {},
   "source": [
    "- Note: Use majority votes to get the final prediction, you may get slightly different results when re-building the random forest model"
   ]
  },
  {
   "cell_type": "code",
   "execution_count": 166,
   "metadata": {},
   "outputs": [
    {
     "name": "stderr",
     "output_type": "stream",
     "text": [
      "100%|██████████| 10/10 [00:43<00:00,  4.39s/it]\n"
     ]
    },
    {
     "name": "stdout",
     "output_type": "stream",
     "text": [
      "Test-set accuarcy score:  0.89\n"
     ]
    },
    {
     "name": "stderr",
     "output_type": "stream",
     "text": [
      "100%|██████████| 10/10 [03:17<00:00, 19.71s/it]"
     ]
    },
    {
     "name": "stdout",
     "output_type": "stream",
     "text": [
      "Test-set accuarcy score:  0.91\n"
     ]
    },
    {
     "name": "stderr",
     "output_type": "stream",
     "text": [
      "\n"
     ]
    }
   ],
   "source": [
    "clf_random_features.fit(x_train, y_train)\n",
    "y_pred = clf_random_features.predict(x_test)\n",
    "print('Test-set accuarcy score: ', accuracy_score(y_test, y_pred))\n",
    "\n",
    "clf_all_features.fit(x_train, y_train)\n",
    "y_pred = clf_all_features.predict(x_test)\n",
    "print('Test-set accuarcy score: ', accuracy_score(y_test, y_pred))"
   ]
  },
  {
   "cell_type": "markdown",
   "metadata": {},
   "source": [
    "### Question 6. Train and tune your model on a real-world dataset\n",
    "Try you best to get higher accuracy score of your model. After parameter tuning, you can train your model on the full dataset (train + val).\n",
    "- Feature engineering\n",
    "- Hyperparameter tuning\n",
    "- Implement any other ensemble methods, such as gradient boosting. Please note that you **can not** call any package. Also, only ensemble method can be used. Neural network method is not allowed to used."
   ]
  },
  {
   "cell_type": "code",
   "execution_count": 11,
   "metadata": {},
   "outputs": [],
   "source": [
    "def train_your_model(data):\n",
    "    ## Define your model and training \n",
    "    data_x_train = np.array(data.values)[:,0:(len(val_df.values[0])-1)]\n",
    "    data_y_train = np.array(data.values)[:,-1]\n",
    "    \n",
    "    ada175 = AdaBoost(n_estimators=175)\n",
    "    ada175.fit(data_x_train, data_y_train)    \n",
    "    # clf_depth3 = DecisionTree(criterion='gini', max_depth=3)\n",
    "    # clf_depth3.fit(data_x_train, data_y_train)\n",
    "    # y_pred = clf_depth3.predict(x_test)\n",
    "    # print('Test-set accuarcy score: ', accuracy_score(y_test, y_pred))\n",
    "    return ada175\n"
   ]
  },
  {
   "cell_type": "code",
   "execution_count": 12,
   "metadata": {},
   "outputs": [
    {
     "name": "stderr",
     "output_type": "stream",
     "text": [
      "100%|██████████| 175/175 [1:39:52<00:00, 34.24s/it]\n"
     ]
    }
   ],
   "source": [
    "\n",
    "train_df = pd.read_csv('train.csv')\n",
    "val_df = pd.read_csv('val.csv')\n",
    "data = pd.concat([train_df, val_df])\n",
    "data_x_train = data.values\n",
    "# print(data_x_train)\n",
    "\n",
    "my_model = train_your_model(data)\n",
    "test_df = pd.read_csv('x_test.csv')\n",
    "x_test = test_df.values\n",
    "# print(x_test)\n",
    "y_pred = my_model.predict(x_test)\n",
    "np.save('y_pred', y_pred)\n",
    "x = np.load('y_pred.npy')\n",
    "# print('Test-set accuarcy score: ', accuracy_score(train_y, y_pred))\n",
    "# print('Test-set accuarcy score: ', accuracy_score(train_y, x))"
   ]
  },
  {
   "cell_type": "code",
   "execution_count": 78,
   "metadata": {},
   "outputs": [],
   "source": [
    "# x_train = pd.read_csv('x_test.csv')\n",
    "# x_test = x_train.values\n",
    "# y_pred = my_model.predict(x_test)\n"
   ]
  },
  {
   "cell_type": "code",
   "execution_count": 79,
   "metadata": {},
   "outputs": [],
   "source": [
    "assert y_pred.shape == (500, )"
   ]
  },
  {
   "cell_type": "markdown",
   "metadata": {},
   "source": [
    "## Supplementary\n",
    "If you have trouble to implement this homework, TA strongly recommend watching [this video](https://www.youtube.com/watch?v=LDRbO9a6XPU), which explains Decision Tree model clearly. But don't copy code from any resources, try to finish this homework by yourself! "
   ]
  },
  {
   "cell_type": "markdown",
   "metadata": {},
   "source": [
    "### DO NOT MODIFY CODE BELOW"
   ]
  },
  {
   "cell_type": "code",
   "execution_count": 218,
   "metadata": {},
   "outputs": [],
   "source": [
    "# import pandas as pd\n",
    "# from sklearn.metrics import accuracy_score\n",
    "# # y_test = pd.read_csv('y_test.csv')['price_range'].values\n",
    "\n",
    "# print('Test-set accuarcy score: ', accuracy_score(y_test, y_pred))"
   ]
  },
  {
   "cell_type": "code",
   "execution_count": null,
   "metadata": {},
   "outputs": [],
   "source": []
  },
  {
   "cell_type": "code",
   "execution_count": 219,
   "metadata": {},
   "outputs": [
    {
     "name": "stdout",
     "output_type": "stream",
     "text": [
      "DecisionTree(criterion='entropy', max_depth=3) failed\n",
      "*** We will check your result for Question 3 manually *** (5 points)\n"
     ]
    },
    {
     "name": "stderr",
     "output_type": "stream",
     "text": [
      "100%|██████████| 10/10 [00:10<00:00,  1.09s/it]\n",
      "100%|██████████| 100/100 [01:57<00:00,  1.18s/it]\n",
      "100%|██████████| 10/10 [00:02<00:00,  4.29it/s]\n",
      "100%|██████████| 10/10 [00:02<00:00,  3.73it/s]\n",
      "100%|██████████| 10/10 [00:02<00:00,  3.96it/s]\n",
      "100%|██████████| 100/100 [00:26<00:00,  3.83it/s]\n",
      "100%|██████████| 10/10 [00:06<00:00,  1.59it/s]\n",
      "100%|██████████| 10/10 [00:05<00:00,  1.69it/s]\n",
      "100%|██████████| 10/10 [00:06<00:00,  1.59it/s]\n",
      "100%|██████████| 10/10 [00:06<00:00,  1.46it/s]\n",
      "100%|██████████| 10/10 [00:05<00:00,  1.81it/s]"
     ]
    },
    {
     "name": "stdout",
     "output_type": "stream",
     "text": [
      "*** We will check your result for Question 6 manually *** (20 points)\n",
      "Approximate score range: 42.5 ~ 67.5\n",
      "*** This score is only for reference ***\n"
     ]
    },
    {
     "name": "stderr",
     "output_type": "stream",
     "text": [
      "\n"
     ]
    }
   ],
   "source": [
    "def discrete_checker(score, thres, clf, name, x_train, y_train, x_test, y_test):\n",
    "    clf.fit(x_train, y_train)\n",
    "    y_pred = clf.predict(x_test)\n",
    "    if accuracy_score(y_test, y_pred) - thres >= 0:\n",
    "        return score\n",
    "    else:\n",
    "        print(f\"{name} failed\")\n",
    "        return 0\n",
    "\n",
    "\n",
    "def patient_checker(score, thres, CLS, kwargs, name,\n",
    "                    x_train, y_train, x_test, y_test, patient=10):\n",
    "    while patient > 0:\n",
    "        patient -= 1\n",
    "        clf = CLS(**kwargs)\n",
    "        clf.fit(x_train, y_train)\n",
    "        y_pred = clf.predict(x_test)\n",
    "        if accuracy_score(y_test, y_pred) - thres >= 0:\n",
    "            return score\n",
    "    print(f\"{name} failed\")\n",
    "    print(\"Considering the randomness, we will check it manually\")\n",
    "    return 0\n",
    "\n",
    "\n",
    "def load_dataset():\n",
    "    file_url = \"http://storage.googleapis.com/download.tensorflow.org/data/abalone_train.csv\"\n",
    "    df = pd.read_csv(\n",
    "        file_url,\n",
    "        names=[\"Length\", \"Diameter\", \"Height\", \"Whole weight\", \"Shucked weight\",\n",
    "               \"Viscera weight\", \"Shell weight\", \"Age\"]\n",
    "    )\n",
    "\n",
    "    df['Target'] = (df[\"Age\"] > 15).astype(int)\n",
    "    df = df.drop(labels=[\"Age\"], axis=\"columns\")\n",
    "\n",
    "    train_idx = range(0, len(df), 10)\n",
    "    test_idx = range(1, len(df), 20)\n",
    "\n",
    "    train_df = df.iloc[train_idx]\n",
    "    test_df = df.iloc[test_idx]\n",
    "\n",
    "    x_train = train_df.drop(labels=[\"Target\"], axis=\"columns\")\n",
    "    feature_names = x_train.columns.values\n",
    "    x_train = x_train.values\n",
    "    y_train = train_df['Target'].values\n",
    "\n",
    "    x_test = test_df.drop(labels=[\"Target\"], axis=\"columns\")\n",
    "    x_test = x_test.values\n",
    "    y_test = test_df['Target'].values\n",
    "    return x_train, y_train, x_test, y_test, feature_names\n",
    "\n",
    "\n",
    "score = 0\n",
    "\n",
    "data = np.array([1, 2])\n",
    "if abs(gini(data) - 0.5) < 1e-4:\n",
    "    score += 2.5\n",
    "else:\n",
    "    print(\"gini test failed\")\n",
    "\n",
    "if abs(entropy(data) - 1) < 1e-4:\n",
    "    score += 2.5\n",
    "else:\n",
    "    print(\"entropy test failed\")\n",
    "\n",
    "x_train, y_train, x_test, y_test, feature_names = load_dataset()\n",
    "\n",
    "score += discrete_checker(5, 0.9337,\n",
    "                          DecisionTree(criterion='gini', max_depth=3),\n",
    "                          \"DecisionTree(criterion='gini', max_depth=3)\",\n",
    "                          x_train, y_train, x_test, y_test\n",
    "                          )\n",
    "\n",
    "score += discrete_checker(2.5, 0.9036,\n",
    "                          DecisionTree(criterion='gini', max_depth=10),\n",
    "                          \"DecisionTree(criterion='gini', max_depth=10)\",\n",
    "                          x_train, y_train, x_test, y_test\n",
    "                          )\n",
    "\n",
    "score += discrete_checker(2.5, 0.9096,\n",
    "                          DecisionTree(criterion='entropy', max_depth=3),\n",
    "                          \"DecisionTree(criterion='entropy', max_depth=3)\",\n",
    "                          x_train, y_train, x_test, y_test\n",
    "                          )\n",
    "\n",
    "print(\"*** We will check your result for Question 3 manually *** (5 points)\")\n",
    "\n",
    "score += patient_checker(\n",
    "    7.5, 0.91, AdaBoost, {\"n_estimators\": 10},\n",
    "    \"AdaBoost(n_estimators=10)\",\n",
    "    x_train, y_train, x_test, y_test\n",
    ")\n",
    "\n",
    "score += patient_checker(\n",
    "    7.5, 0.87, AdaBoost, {\"n_estimators\": 100},\n",
    "    \"AdaBoost(n_estimators=100)\",\n",
    "    x_train, y_train, x_test, y_test\n",
    ")\n",
    "\n",
    "score += patient_checker(\n",
    "    5, 0.91, RandomForest,\n",
    "    {\"n_estimators\": 10, \"max_features\": np.sqrt(x_train.shape[1])},\n",
    "    \"RandomForest(n_estimators=10, max_features=sqrt(n_features))\",\n",
    "    x_train, y_train, x_test, y_test\n",
    ")\n",
    "\n",
    "score += patient_checker(\n",
    "    5, 0.91, RandomForest,\n",
    "    {\"n_estimators\": 100, \"max_features\": np.sqrt(x_train.shape[1])},\n",
    "    \"RandomForest(n_estimators=100, max_features=sqrt(n_features))\",\n",
    "    x_train, y_train, x_test, y_test\n",
    ")\n",
    "\n",
    "score += patient_checker(\n",
    "    5, 0.92, RandomForest,\n",
    "    {\"n_estimators\": 10, \"max_features\": x_train.shape[1]},\n",
    "    \"RandomForest(n_estimators=10, max_features=n_features)\",\n",
    "    x_train, y_train, x_test, y_test\n",
    ")\n",
    "\n",
    "print(\"*** We will check your result for Question 6 manually *** (20 points)\")\n",
    "print(\"Approximate score range:\", score, \"~\", score + 25)\n",
    "print(\"*** This score is only for reference ***\")\n"
   ]
  }
 ],
 "metadata": {
  "kernelspec": {
   "display_name": "Python 3.8.10 64-bit",
   "language": "python",
   "name": "python3"
  },
  "language_info": {
   "codemirror_mode": {
    "name": "ipython",
    "version": 3
   },
   "file_extension": ".py",
   "mimetype": "text/x-python",
   "name": "python",
   "nbconvert_exporter": "python",
   "pygments_lexer": "ipython3",
   "version": "3.8.10"
  },
  "vscode": {
   "interpreter": {
    "hash": "4d017183e2d001f3adde55206bad98abad981a365b43064e490592d198e63cac"
   }
  }
 },
 "nbformat": 4,
 "nbformat_minor": 4
}
