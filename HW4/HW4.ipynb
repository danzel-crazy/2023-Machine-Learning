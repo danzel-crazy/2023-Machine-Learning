{
 "cells": [
  {
   "cell_type": "code",
   "execution_count": 20,
   "metadata": {},
   "outputs": [],
   "source": [
    "import numpy as np\n",
    "import pandas as pd\n",
    "from sklearn.svm import SVC, SVR\n",
    "from sklearn.metrics import accuracy_score\n",
    "import seaborn as sns\n",
    "import matplotlib.pylab as plt\n",
    "import matplotlib"
   ]
  },
  {
   "cell_type": "markdown",
   "metadata": {},
   "source": [
    "## Load data"
   ]
  },
  {
   "cell_type": "code",
   "execution_count": 2,
   "metadata": {},
   "outputs": [],
   "source": [
    "x_train = np.load(\"x_train.npy\")\n",
    "y_train = np.load(\"y_train.npy\")\n",
    "x_test = np.load(\"x_test.npy\")\n",
    "# y_test = np.load(\"y_test.npy\")"
   ]
  },
  {
   "cell_type": "code",
   "execution_count": 3,
   "metadata": {},
   "outputs": [
    {
     "name": "stdout",
     "output_type": "stream",
     "text": [
      "(7000, 300)\n"
     ]
    }
   ],
   "source": [
    "# 7000 data with 300 features\n",
    "print(x_train.shape)"
   ]
  },
  {
   "cell_type": "code",
   "execution_count": 4,
   "metadata": {},
   "outputs": [
    {
     "name": "stdout",
     "output_type": "stream",
     "text": [
      "[0 1]\n"
     ]
    }
   ],
   "source": [
    "# It's a binary classification problem \n",
    "print(np.unique(y_train))"
   ]
  },
  {
   "cell_type": "markdown",
   "metadata": {},
   "source": [
    "## Question 1\n",
    "K-fold data partition: Implement the K-fold cross-validation function. Your function should take K as an argument and return a list of lists (len(list) should equal to K), which contains K elements. Each element is a list contains two parts, the first part contains the index of all training folds, e.g. Fold 2 to Fold 5 in split 1. The second part contains the index of validation fold, e.g. Fold 1 in  split 1"
   ]
  },
  {
   "cell_type": "code",
   "execution_count": 5,
   "metadata": {},
   "outputs": [],
   "source": [
    "def cross_validation(x_train, y_train, k=5):\n",
    "    \n",
    "    kfold_data = []\n",
    "    non_divide = False\n",
    "    re = 0\n",
    "    if x_train.shape[0] % k != 0 : \n",
    "        re = x_train.shape[0] % k\n",
    "        non_divide = True\n",
    "\n",
    "    v_index = [i for i in range(int(x_train.shape[0]))]\n",
    "    np.random.seed(100)\n",
    "    np.random.shuffle(v_index)\n",
    "    valid_index_size = int(x_train.shape[0] // k)\n",
    "\n",
    "    now = 0\n",
    "    for i in range(k) :\n",
    "        if non_divide :\n",
    "            if i < re:\n",
    "                start, end = now, now+valid_index_size+1\n",
    "                valid_index = v_index[start:end]\n",
    "\n",
    "                indices = list(range(0, start)) + list(range(end, len(x_train)))\n",
    "                \n",
    "                test_index = np.asarray(v_index[0:start] + v_index[end: len(x_train)])\n",
    "                kfold_data.append(np.asarray([test_index, valid_index]))\n",
    "                now = end\n",
    "            else :\n",
    "                start, end = now, now+valid_index_size\n",
    "                valid_index = np.asarray(v_index[start:end])\n",
    "\n",
    "                indices = list(range(0, start)) + list(range(end, len(x_train)))\n",
    "                ttest_index = np.asarray(v_index[0:start] + v_index[end: len(x_train)])\n",
    "                kfold_data.append(np.asarray([test_index, valid_index]))\n",
    "                now = end\n",
    "        else :\n",
    "            start, end = now, now+valid_index_size\n",
    "            valid_index = np.asarray(v_index[start:end])\n",
    "            # print(len(valid_index))\n",
    "            indices = list(range(0, start)) + list(range(end, len(x_train)))\n",
    "            test_index = np.asarray(v_index[0:start] + v_index[end: len(x_train)])\n",
    "            kfold_data.append(np.asarray([test_index, valid_index]))\n",
    "            # print(kfold_data[i][1][0])\n",
    "            now = end\n",
    "    return kfold_data"
   ]
  },
  {
   "cell_type": "code",
   "execution_count": 8,
   "metadata": {},
   "outputs": [],
   "source": [
    "kfold_data = cross_validation(x_train, y_train, k=10)\n",
    "# print(kfold_data[9][0])\n",
    "assert len(kfold_data) == 10 # should contain 10 fold of data\n",
    "assert len(kfold_data[0]) == 2 # each element should contain train fold and validation fold\n",
    "assert kfold_data[0][1].shape[0] == 700 # The number of data in each validation fold should equal to training data divieded by K\n",
    "# print(kfold_data[0])"
   ]
  },
  {
   "cell_type": "markdown",
   "metadata": {},
   "source": [
    "## example"
   ]
  },
  {
   "cell_type": "code",
   "execution_count": 9,
   "metadata": {},
   "outputs": [
    {
     "name": "stdout",
     "output_type": "stream",
     "text": [
      "Split: 1, Training index: [ 1  2  3  4  5  6  7  8 10 11 12 13 15 16 18 19], Validation index: [ 0  9 14 17]\n",
      "Split: 2, Training index: [ 0  1  2  4  5  7  8  9 10 11 12 14 15 17 18 19], Validation index: [ 3  6 13 16]\n",
      "Split: 3, Training index: [ 0  1  3  4  5  6  7  9 11 12 13 14 15 16 17 19], Validation index: [ 2  8 10 18]\n",
      "Split: 4, Training index: [ 0  1  2  3  6  7  8  9 10 13 14 15 16 17 18 19], Validation index: [ 4  5 11 12]\n",
      "Split: 5, Training index: [ 0  2  3  4  5  6  8  9 10 11 12 13 14 16 17 18], Validation index: [ 1  7 15 19]\n"
     ]
    }
   ],
   "source": [
    "from sklearn.model_selection import KFold\n",
    "\n",
    "X = np.arange(20)\n",
    "kf = KFold(n_splits=5, shuffle=True)\n",
    "kfold_data= []\n",
    "for i, (train_index, val_index) in enumerate(kf.split(X)):\n",
    "    print(\"Split: %s, Training index: %s, Validation index: %s\" % (i+1, train_index, val_index))\n",
    "    kfold_data.append([train_index, val_index])"
   ]
  },
  {
   "cell_type": "code",
   "execution_count": 10,
   "metadata": {},
   "outputs": [],
   "source": [
    "assert len(kfold_data) == 5 # should contain 5 fold of data\n",
    "assert len(kfold_data[0]) == 2 # each element should contains index of training fold and validation fold\n",
    "assert kfold_data[0][1].shape[0] == 4 # The number of data in each validation fold should equal to training data divieded by K"
   ]
  },
  {
   "cell_type": "markdown",
   "metadata": {},
   "source": [
    "## Question 2\n",
    "Using sklearn.svm.SVC to train a classifier on the provided train set and conduct the grid search of “C” and “gamma” to find the best parameters by cross-validation."
   ]
  },
  {
   "cell_type": "code",
   "execution_count": 11,
   "metadata": {},
   "outputs": [],
   "source": [
    "clf = SVC(C=1.0, kernel='rbf', gamma=0.01)"
   ]
  },
  {
   "cell_type": "code",
   "execution_count": 12,
   "metadata": {},
   "outputs": [],
   "source": [
    "## your code\n",
    "kfold_data = cross_validation(x_train, y_train, k=5)\n",
    "\n",
    "C = [0.1, 1, 10, 100, 1000, 10000, 100000]\n",
    "gamma = [0.000001, 0.00001, 0.0001, 0.001, 0.01]\n",
    "score = []\n",
    "best_acc = -1.0\n",
    "best_C = 0.0\n",
    "best_gamma = 0.0\n",
    "\n",
    "for c in C:\n",
    "    temp = []\n",
    "    for ga in gamma :\n",
    "        clf = SVC(C=c, kernel='rbf', gamma=ga)\n",
    "        acc = 0\n",
    "        for i in range(len(kfold_data)):\n",
    "            # print(i)\n",
    "            train_x = x_train[kfold_data[i][0]]\n",
    "            train_y = y_train[kfold_data[i][0]]\n",
    "            clf.fit(train_x, train_y)\n",
    "            # print(clf.support_vectors_)\n",
    "            # print(clf.n_features_in_)\n",
    "            y_pred = clf.predict(x_train[kfold_data[i][1]])\n",
    "            y = y_train[kfold_data[i][1]]\n",
    "            # print(accuracy_score(y, y_pred))\n",
    "            acc += accuracy_score(y, y_pred)\n",
    "        \n",
    "        acc /= 5\n",
    "        if best_acc < acc :\n",
    "            best_acc = acc\n",
    "            best_C = c\n",
    "            best_gamma = ga\n",
    "        temp.append(acc)\n",
    "\n",
    "    score.append(temp)\n"
   ]
  },
  {
   "cell_type": "code",
   "execution_count": 13,
   "metadata": {},
   "outputs": [
    {
     "name": "stdout",
     "output_type": "stream",
     "text": [
      "0.9932857142857143\n",
      "[10, 0.0001]\n"
     ]
    }
   ],
   "source": [
    "# print(best_C)\n",
    "# print(best_gamma)\n",
    "print(best_acc)\n",
    "best_parameters = [best_C, best_gamma]\n",
    "print(best_parameters)"
   ]
  },
  {
   "cell_type": "markdown",
   "metadata": {},
   "source": [
    "## Question 3\n",
    "Plot the grid search results of your SVM. The x, y represents the hyperparameters of “gamma” and “C”, respectively. And the color represents the average score of validation folds\n",
    "You reults should be look like this reference image below ![image](https://miro.medium.com/max/1296/1*wGWTup9r4cVytB5MOnsjdQ.png) "
   ]
  },
  {
   "cell_type": "code",
   "execution_count": 38,
   "metadata": {},
   "outputs": [
    {
     "data": {
      "text/plain": [
       "<Figure size 1500x1000 with 0 Axes>"
      ]
     },
     "metadata": {},
     "output_type": "display_data"
    },
    {
     "data": {
      "image/png": "[encoded data removed]",
      "text/plain": [
       "<Figure size 640x480 with 2 Axes>"
      ]
     },
     "metadata": {},
     "output_type": "display_data"
    }
   ],
   "source": [
    "plt.figure(figsize=(15, 10))\n",
    "\n",
    "fig, ax = plt.subplots()\n",
    "im = ax.imshow(score, cmap=\"bwr\")\n",
    "\n",
    "cbar = ax.figure.colorbar(im, ax=ax, shrink=0.5 )\n",
    "\n",
    "# Show all ticks and label them with the respective x list and y list\n",
    "ax.set_yticks(np.arange(len(C)))\n",
    "ax.set_xticks(np.arange(len(gamma)))\n",
    "ax.set_yticklabels(C)\n",
    "ax.set_xticklabels(gamma)\n",
    "\n",
    "\n",
    "plt.setp(ax.get_xticklabels(), rotation=45, ha=\"right\",\n",
    "         rotation_mode=\"anchor\")\n",
    "\n",
    "# Loop over score and create text \n",
    "valfmt = matplotlib.ticker.StrMethodFormatter(\"{x:.2f}\")\n",
    "for i in range(len(C)):\n",
    "    for j in range(len(gamma)):\n",
    "        text = ax.text(j, i, valfmt(score[i][j], None),\n",
    "                       ha=\"center\", va=\"center\", color=\"w\")\n",
    "\n",
    "ax.set_title(\"Hyperparameter Gridsearch\")\n",
    "fig.tight_layout()\n",
    "plt.xlabel(\"Gamma Parameter\")\n",
    "plt.ylabel(\"C Parameter\")\n",
    "plt.show()"
   ]
  },
  {
   "cell_type": "markdown",
   "metadata": {},
   "source": [
    "## Question 4\n",
    "Train your SVM model by the best parameters you found from question 2 on the whole training set and evaluate the performance on the test set."
   ]
  },
  {
   "cell_type": "code",
   "execution_count": null,
   "metadata": {},
   "outputs": [],
   "source": [
    "best_model = SVC(C=best_parameters[0], kernel='rbf', gamma=best_parameters[1])\n",
    "\n",
    "y_pred = best_model.predict(x_test)\n",
    "print(\"Accuracy score: \", accuracy_score(y_pred, y_test))"
   ]
  }
 ],
 "metadata": {
  "kernelspec": {
   "display_name": "Python 3.8.10 64-bit",
   "language": "python",
   "name": "python3"
  },
  "language_info": {
   "codemirror_mode": {
    "name": "ipython",
    "version": 3
   },
   "file_extension": ".py",
   "mimetype": "text/x-python",
   "name": "python",
   "nbconvert_exporter": "python",
   "pygments_lexer": "ipython3",
   "version": "3.8.10"
  },
  "vscode": {
   "interpreter": {
    "hash": "4d017183e2d001f3adde55206bad98abad981a365b43064e490592d198e63cac"
   }
  }
 },
 "nbformat": 4,
 "nbformat_minor": 4
}
